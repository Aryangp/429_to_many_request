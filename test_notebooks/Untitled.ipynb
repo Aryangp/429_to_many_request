{
 "cells": [
  {
   "cell_type": "code",
   "execution_count": 15,
   "id": "50e1c0dd",
   "metadata": {},
   "outputs": [],
   "source": [
    "import pandas as pd\n",
    "import random\n",
    "import weaviate"
   ]
  },
  {
   "cell_type": "code",
   "execution_count": 7,
   "id": "87b12821",
   "metadata": {},
   "outputs": [
    {
     "data": {
      "text/html": [
       "<div>\n",
       "<style scoped>\n",
       "    .dataframe tbody tr th:only-of-type {\n",
       "        vertical-align: middle;\n",
       "    }\n",
       "\n",
       "    .dataframe tbody tr th {\n",
       "        vertical-align: top;\n",
       "    }\n",
       "\n",
       "    .dataframe thead th {\n",
       "        text-align: right;\n",
       "    }\n",
       "</style>\n",
       "<table border=\"1\" class=\"dataframe\">\n",
       "  <thead>\n",
       "    <tr style=\"text-align: right;\">\n",
       "      <th></th>\n",
       "      <th>title</th>\n",
       "      <th>url</th>\n",
       "      <th>brand</th>\n",
       "      <th>main_image</th>\n",
       "      <th>sku</th>\n",
       "      <th>description</th>\n",
       "      <th>raw_description</th>\n",
       "      <th>gtin13</th>\n",
       "      <th>currency</th>\n",
       "      <th>price</th>\n",
       "      <th>...</th>\n",
       "      <th>sub_category_1</th>\n",
       "      <th>sub_category_2</th>\n",
       "      <th>sub_category_3</th>\n",
       "      <th>images</th>\n",
       "      <th>raw_specifications</th>\n",
       "      <th>specifications</th>\n",
       "      <th>highlights</th>\n",
       "      <th>raw_highlights</th>\n",
       "      <th>uniq_id</th>\n",
       "      <th>scraped_at</th>\n",
       "    </tr>\n",
       "  </thead>\n",
       "  <tbody>\n",
       "    <tr>\n",
       "      <th>0</th>\n",
       "      <td>NMR Distribution Zoltar Fortunes Playing Cards...</td>\n",
       "      <td>https://www.target.com/p/nmr-distribution-zolt...</td>\n",
       "      <td>NMR Distribution</td>\n",
       "      <td>https://target.scene7.com/is/image/Target/GUES...</td>\n",
       "      <td>81917300</td>\n",
       "      <td>Zoltar the Great Gypsy can see your future… Yo...</td>\n",
       "      <td>&lt;div class=\"h-margin-v-default\" data-test=\"ite...</td>\n",
       "      <td>840391145528</td>\n",
       "      <td>USD</td>\n",
       "      <td>10.99</td>\n",
       "      <td>...</td>\n",
       "      <td>Games</td>\n",
       "      <td>Adult Games</td>\n",
       "      <td>NaN</td>\n",
       "      <td>https://target.scene7.com/is/image/Target/GUES...</td>\n",
       "      <td>&lt;div class=\"styles__StyledCol-sc-ct8kx6-0 iKGd...</td>\n",
       "      <td>Suggested Age: 6 Years and Up | Suggested Age:...</td>\n",
       "      <td>ZOLTAR CARDS: Zoltar the Great Gypsy can see y...</td>\n",
       "      <td>&lt;li class=\"styles__Bullet-sc-6aebpn-0 eIfLaI\"&gt;...</td>\n",
       "      <td>898ca3c8-8bfa-5fac-a48e-53879845cf48</td>\n",
       "      <td>06/12/22</td>\n",
       "    </tr>\n",
       "    <tr>\n",
       "      <th>1</th>\n",
       "      <td>The Gifted Stationery 2021 - 2022 Monthly Wall...</td>\n",
       "      <td>https://www.target.com/p/the-gifted-stationery...</td>\n",
       "      <td>The Gifted Stationary</td>\n",
       "      <td>https://target.scene7.com/is/image/Target/GUES...</td>\n",
       "      <td>84821007</td>\n",
       "      <td>16 month wall calendar provides easy planning ...</td>\n",
       "      <td>&lt;div class=\"h-margin-v-default\" data-test=\"ite...</td>\n",
       "      <td>9781801433983</td>\n",
       "      <td>USD</td>\n",
       "      <td>12.99</td>\n",
       "      <td>...</td>\n",
       "      <td>Calendars</td>\n",
       "      <td>NaN</td>\n",
       "      <td>NaN</td>\n",
       "      <td>https://target.scene7.com/is/image/Target/GUES...</td>\n",
       "      <td>&lt;div class=\"styles__StyledCol-sc-ct8kx6-0 iKGd...</td>\n",
       "      <td>Dimensions (Overall): 11.9 inches (L), 11.9 in...</td>\n",
       "      <td>16-MONTH CALENDAR: Easy planning and goal sett...</td>\n",
       "      <td>&lt;li class=\"styles__Bullet-sc-6aebpn-0 eIfLaI\"&gt;...</td>\n",
       "      <td>b7c8e8ce-55b6-529d-b52e-dbfbd70b066e</td>\n",
       "      <td>06/12/22</td>\n",
       "    </tr>\n",
       "    <tr>\n",
       "      <th>2</th>\n",
       "      <td>Doctor Who: Series Three, Part Two (DVD)</td>\n",
       "      <td>https://www.target.com/p/doctor-who-series-thr...</td>\n",
       "      <td>Warner Bros.</td>\n",
       "      <td>https://target.scene7.com/is/image/Target/GUES...</td>\n",
       "      <td>15432753</td>\n",
       "      <td>Tenth Doctor David Tennant (Broadchurch, Harry...</td>\n",
       "      <td>&lt;div class=\"h-margin-v-default\" data-test=\"ite...</td>\n",
       "      <td>883929408115</td>\n",
       "      <td>USD</td>\n",
       "      <td>10.89</td>\n",
       "      <td>...</td>\n",
       "      <td>Movies</td>\n",
       "      <td>NaN</td>\n",
       "      <td>NaN</td>\n",
       "      <td>https://target.scene7.com/is/image/Target/GUES...</td>\n",
       "      <td>&lt;div class=\"styles__StyledCol-sc-ct8kx6-0 iKGd...</td>\n",
       "      <td>Movie Category: Television | Movie Category: T...</td>\n",
       "      <td>Run Time: 315:00 min | Disc Count: 2 | Rating:...</td>\n",
       "      <td>&lt;li class=\"styles__Bullet-sc-6aebpn-0 eIfLaI\"&gt;...</td>\n",
       "      <td>97fd83d8-e76b-5bac-999c-b734fdcafe66</td>\n",
       "      <td>06/12/22</td>\n",
       "    </tr>\n",
       "    <tr>\n",
       "      <th>3</th>\n",
       "      <td>Blue Panda 75 Pieces Tie Dye Birthday Party Su...</td>\n",
       "      <td>https://www.target.com/p/blue-panda-75-pieces-...</td>\n",
       "      <td>Blue Panda</td>\n",
       "      <td>https://target.scene7.com/is/image/Target/GUES...</td>\n",
       "      <td>84199597</td>\n",
       "      <td>Throwing a party has never been easier, we’ve ...</td>\n",
       "      <td>&lt;div class=\"h-margin-v-default\" data-test=\"ite...</td>\n",
       "      <td>194425194489</td>\n",
       "      <td>USD</td>\n",
       "      <td>26.99</td>\n",
       "      <td>...</td>\n",
       "      <td>Birthday Party Supplies</td>\n",
       "      <td>NaN</td>\n",
       "      <td>NaN</td>\n",
       "      <td>https://target.scene7.com/is/image/Target/GUES...</td>\n",
       "      <td>&lt;div class=\"styles__StyledCol-sc-ct8kx6-0 iKGd...</td>\n",
       "      <td>Number of Pieces: 24 | Number of Pieces: 24 | ...</td>\n",
       "      <td>Serves 24: Includes 1 plastic table cover, a b...</td>\n",
       "      <td>&lt;li class=\"styles__Bullet-sc-6aebpn-0 eIfLaI\"&gt;...</td>\n",
       "      <td>3b4d60b0-0888-596e-babe-d9e6e4e3131c</td>\n",
       "      <td>06/12/22</td>\n",
       "    </tr>\n",
       "    <tr>\n",
       "      <th>4</th>\n",
       "      <td>Sullivans Hammered Metal Wall Medallions Set o...</td>\n",
       "      <td>https://www.target.com/p/sullivans-hammered-me...</td>\n",
       "      <td>Sullivans</td>\n",
       "      <td>https://target.scene7.com/is/image/Target/GUES...</td>\n",
       "      <td>86345566</td>\n",
       "      <td>Bring a little charm and delight to your space...</td>\n",
       "      <td>&lt;div class=\"h-margin-v-default\" data-test=\"ite...</td>\n",
       "      <td>23271231140</td>\n",
       "      <td>USD</td>\n",
       "      <td>118.99</td>\n",
       "      <td>...</td>\n",
       "      <td>Home Decor</td>\n",
       "      <td>Wall Decor</td>\n",
       "      <td>Wall Accents</td>\n",
       "      <td>https://target.scene7.com/is/image/Target/GUES...</td>\n",
       "      <td>&lt;div class=\"styles__StyledCol-sc-ct8kx6-0 iKGd...</td>\n",
       "      <td>Dimensions (Overall): 23 inches (H) x 1 inches...</td>\n",
       "      <td>This unique wall set will be the perfect addit...</td>\n",
       "      <td>&lt;li class=\"styles__Bullet-sc-6aebpn-0 eIfLaI\"&gt;...</td>\n",
       "      <td>036188d9-4546-5952-af8f-bc234d1f8113</td>\n",
       "      <td>06/12/22</td>\n",
       "    </tr>\n",
       "  </tbody>\n",
       "</table>\n",
       "<p>5 rows × 24 columns</p>\n",
       "</div>"
      ],
      "text/plain": [
       "                                               title  \\\n",
       "0  NMR Distribution Zoltar Fortunes Playing Cards...   \n",
       "1  The Gifted Stationery 2021 - 2022 Monthly Wall...   \n",
       "2           Doctor Who: Series Three, Part Two (DVD)   \n",
       "3  Blue Panda 75 Pieces Tie Dye Birthday Party Su...   \n",
       "4  Sullivans Hammered Metal Wall Medallions Set o...   \n",
       "\n",
       "                                                 url                  brand  \\\n",
       "0  https://www.target.com/p/nmr-distribution-zolt...       NMR Distribution   \n",
       "1  https://www.target.com/p/the-gifted-stationery...  The Gifted Stationary   \n",
       "2  https://www.target.com/p/doctor-who-series-thr...           Warner Bros.   \n",
       "3  https://www.target.com/p/blue-panda-75-pieces-...             Blue Panda   \n",
       "4  https://www.target.com/p/sullivans-hammered-me...              Sullivans   \n",
       "\n",
       "                                          main_image       sku  \\\n",
       "0  https://target.scene7.com/is/image/Target/GUES...  81917300   \n",
       "1  https://target.scene7.com/is/image/Target/GUES...  84821007   \n",
       "2  https://target.scene7.com/is/image/Target/GUES...  15432753   \n",
       "3  https://target.scene7.com/is/image/Target/GUES...  84199597   \n",
       "4  https://target.scene7.com/is/image/Target/GUES...  86345566   \n",
       "\n",
       "                                         description  \\\n",
       "0  Zoltar the Great Gypsy can see your future… Yo...   \n",
       "1  16 month wall calendar provides easy planning ...   \n",
       "2  Tenth Doctor David Tennant (Broadchurch, Harry...   \n",
       "3  Throwing a party has never been easier, we’ve ...   \n",
       "4  Bring a little charm and delight to your space...   \n",
       "\n",
       "                                     raw_description         gtin13 currency  \\\n",
       "0  <div class=\"h-margin-v-default\" data-test=\"ite...   840391145528      USD   \n",
       "1  <div class=\"h-margin-v-default\" data-test=\"ite...  9781801433983      USD   \n",
       "2  <div class=\"h-margin-v-default\" data-test=\"ite...   883929408115      USD   \n",
       "3  <div class=\"h-margin-v-default\" data-test=\"ite...   194425194489      USD   \n",
       "4  <div class=\"h-margin-v-default\" data-test=\"ite...    23271231140      USD   \n",
       "\n",
       "    price  ...           sub_category_1 sub_category_2  sub_category_3  \\\n",
       "0   10.99  ...                    Games    Adult Games             NaN   \n",
       "1   12.99  ...                Calendars            NaN             NaN   \n",
       "2   10.89  ...                   Movies            NaN             NaN   \n",
       "3   26.99  ...  Birthday Party Supplies            NaN             NaN   \n",
       "4  118.99  ...               Home Decor     Wall Decor    Wall Accents   \n",
       "\n",
       "                                              images  \\\n",
       "0  https://target.scene7.com/is/image/Target/GUES...   \n",
       "1  https://target.scene7.com/is/image/Target/GUES...   \n",
       "2  https://target.scene7.com/is/image/Target/GUES...   \n",
       "3  https://target.scene7.com/is/image/Target/GUES...   \n",
       "4  https://target.scene7.com/is/image/Target/GUES...   \n",
       "\n",
       "                                  raw_specifications  \\\n",
       "0  <div class=\"styles__StyledCol-sc-ct8kx6-0 iKGd...   \n",
       "1  <div class=\"styles__StyledCol-sc-ct8kx6-0 iKGd...   \n",
       "2  <div class=\"styles__StyledCol-sc-ct8kx6-0 iKGd...   \n",
       "3  <div class=\"styles__StyledCol-sc-ct8kx6-0 iKGd...   \n",
       "4  <div class=\"styles__StyledCol-sc-ct8kx6-0 iKGd...   \n",
       "\n",
       "                                      specifications  \\\n",
       "0  Suggested Age: 6 Years and Up | Suggested Age:...   \n",
       "1  Dimensions (Overall): 11.9 inches (L), 11.9 in...   \n",
       "2  Movie Category: Television | Movie Category: T...   \n",
       "3  Number of Pieces: 24 | Number of Pieces: 24 | ...   \n",
       "4  Dimensions (Overall): 23 inches (H) x 1 inches...   \n",
       "\n",
       "                                          highlights  \\\n",
       "0  ZOLTAR CARDS: Zoltar the Great Gypsy can see y...   \n",
       "1  16-MONTH CALENDAR: Easy planning and goal sett...   \n",
       "2  Run Time: 315:00 min | Disc Count: 2 | Rating:...   \n",
       "3  Serves 24: Includes 1 plastic table cover, a b...   \n",
       "4  This unique wall set will be the perfect addit...   \n",
       "\n",
       "                                      raw_highlights  \\\n",
       "0  <li class=\"styles__Bullet-sc-6aebpn-0 eIfLaI\">...   \n",
       "1  <li class=\"styles__Bullet-sc-6aebpn-0 eIfLaI\">...   \n",
       "2  <li class=\"styles__Bullet-sc-6aebpn-0 eIfLaI\">...   \n",
       "3  <li class=\"styles__Bullet-sc-6aebpn-0 eIfLaI\">...   \n",
       "4  <li class=\"styles__Bullet-sc-6aebpn-0 eIfLaI\">...   \n",
       "\n",
       "                                uniq_id scraped_at  \n",
       "0  898ca3c8-8bfa-5fac-a48e-53879845cf48   06/12/22  \n",
       "1  b7c8e8ce-55b6-529d-b52e-dbfbd70b066e   06/12/22  \n",
       "2  97fd83d8-e76b-5bac-999c-b734fdcafe66   06/12/22  \n",
       "3  3b4d60b0-0888-596e-babe-d9e6e4e3131c   06/12/22  \n",
       "4  036188d9-4546-5952-af8f-bc234d1f8113   06/12/22  \n",
       "\n",
       "[5 rows x 24 columns]"
      ]
     },
     "execution_count": 7,
     "metadata": {},
     "output_type": "execute_result"
    }
   ],
   "source": [
    "df = pd.read_csv(\"target_com_data_2022_06_2.csv\")\n",
    "df.head()"
   ]
  },
  {
   "cell_type": "code",
   "execution_count": 6,
   "id": "b71c1dc0",
   "metadata": {},
   "outputs": [
    {
     "name": "stdout",
     "output_type": "stream",
     "text": [
      "Index(['title', 'url', 'brand', 'main_image', 'sku', 'description',\n",
      "       'raw_description', 'gtin13', 'currency', 'price', 'availability',\n",
      "       'availableDeliveryMethod', 'available_branch', 'primary_category',\n",
      "       'sub_category_1', 'sub_category_2', 'sub_category_3', 'images',\n",
      "       'raw_specifications', 'specifications', 'highlights', 'raw_highlights',\n",
      "       'uniq_id', 'scraped_at'],\n",
      "      dtype='object')\n"
     ]
    }
   ],
   "source": [
    "print(df.columns)"
   ]
  },
  {
   "cell_type": "code",
   "execution_count": 14,
   "id": "bffd35ba",
   "metadata": {},
   "outputs": [],
   "source": [
    "new_df=df[['title','description','raw_description','price','specifications','primary_category']]"
   ]
  },
  {
   "cell_type": "code",
   "execution_count": 15,
   "id": "89c7c4dd",
   "metadata": {},
   "outputs": [],
   "source": [
    "new_df.to_csv('target_data_without_image.csv',index=False)"
   ]
  },
  {
   "cell_type": "code",
   "execution_count": 10,
   "id": "54d01384",
   "metadata": {},
   "outputs": [
    {
     "data": {
      "text/plain": [
       "167"
      ]
     },
     "execution_count": 10,
     "metadata": {},
     "output_type": "execute_result"
    }
   ],
   "source": [
    "len(new_df['title'].unique())"
   ]
  },
  {
   "cell_type": "code",
   "execution_count": 11,
   "id": "6ccd7ad4",
   "metadata": {},
   "outputs": [
    {
     "data": {
      "text/plain": [
       "title                        0\n",
       "url                          0\n",
       "brand                       33\n",
       "main_image                   0\n",
       "sku                          0\n",
       "description                  0\n",
       "raw_description              0\n",
       "gtin13                       0\n",
       "currency                     0\n",
       "price                        0\n",
       "availability                 0\n",
       "availableDeliveryMethod      0\n",
       "available_branch           167\n",
       "primary_category             0\n",
       "sub_category_1               0\n",
       "sub_category_2              41\n",
       "sub_category_3             137\n",
       "images                       0\n",
       "raw_specifications           0\n",
       "specifications               0\n",
       "highlights                  33\n",
       "raw_highlights              33\n",
       "uniq_id                      0\n",
       "scraped_at                   0\n",
       "dtype: int64"
      ]
     },
     "execution_count": 11,
     "metadata": {},
     "output_type": "execute_result"
    }
   ],
   "source": [
    "df.isnull().sum()"
   ]
  },
  {
   "cell_type": "code",
   "execution_count": 8,
   "id": "a3e922cd",
   "metadata": {},
   "outputs": [],
   "source": [
    "df['price'] = df['price'].astype(int)"
   ]
  },
  {
   "cell_type": "code",
   "execution_count": 20,
   "id": "c383fc18",
   "metadata": {},
   "outputs": [
    {
     "data": {
      "text/plain": [
       "count     167.000000\n",
       "mean      110.437126\n",
       "std       386.671688\n",
       "min         3.000000\n",
       "25%        14.000000\n",
       "50%        24.000000\n",
       "75%        77.000000\n",
       "max      4599.000000\n",
       "Name: price, dtype: float64"
      ]
     },
     "execution_count": 20,
     "metadata": {},
     "output_type": "execute_result"
    }
   ],
   "source": [
    "df['price'].describe()"
   ]
  },
  {
   "cell_type": "code",
   "execution_count": 9,
   "id": "2a634093",
   "metadata": {},
   "outputs": [
    {
     "data": {
      "text/plain": [
       "0       10\n",
       "1       12\n",
       "2       10\n",
       "3       26\n",
       "4      118\n",
       "      ... \n",
       "162     25\n",
       "163    186\n",
       "164     13\n",
       "165     24\n",
       "166    119\n",
       "Name: price, Length: 167, dtype: int32"
      ]
     },
     "execution_count": 9,
     "metadata": {},
     "output_type": "execute_result"
    }
   ],
   "source": [
    "df['price']"
   ]
  },
  {
   "cell_type": "code",
   "execution_count": 13,
   "id": "16a51046",
   "metadata": {},
   "outputs": [],
   "source": [
    "new_df=df[['title','description','raw_description','price','specifications','primary_category','main_image']]\n",
    "new_df.to_csv('target_data_without_image.csv',index=False)"
   ]
  },
  {
   "cell_type": "code",
   "execution_count": 25,
   "id": "5e7b9f4e",
   "metadata": {},
   "outputs": [
    {
     "name": "stdout",
     "output_type": "stream",
     "text": [
      "Class_C5VJdb04Lk\n"
     ]
    }
   ],
   "source": [
    "import string\n",
    "\n",
    "\n",
    "def generate_random_string(length: int) -> str:\n",
    "    random_string = ''.join(random.choices(string.ascii_letters + string.digits, k=length))\n",
    "    random_string=\"Class_\"+random_string\n",
    "    return random_string\n",
    "\n",
    "print(generate_random_string(10))\n",
    "\n"
   ]
  },
  {
   "cell_type": "code",
   "execution_count": 4,
   "id": "fb2db903",
   "metadata": {},
   "outputs": [
    {
     "name": "stdout",
     "output_type": "stream",
     "text": [
      "c:\\Users\\gupta\\OneDrive\\Desktop\\code\\429_to_many_request\\test_notebooks\\images\\class.jpg\n"
     ]
    }
   ],
   "source": [
    "import os\n",
    "current_dir = os.getcwd()\n",
    "print(os.path.join(current_dir,\"images\",\"class.jpg\"))\n"
   ]
  },
  {
   "cell_type": "code",
   "execution_count": 10,
   "id": "14f0f044",
   "metadata": {},
   "outputs": [],
   "source": [
    "new_df2=df[['title','description','raw_description','price','specifications','primary_category','main_image']]\n",
    "new_df2.to_csv('target_data_with_image.csv',index=False)"
   ]
  },
  {
   "cell_type": "code",
   "execution_count": 12,
   "id": "1a6382ea",
   "metadata": {},
   "outputs": [
    {
     "data": {
      "text/plain": [
       "'https://target.scene7.com/is/image/Target/GUEST_c010960e-e95e-4e29-8522-f6ea6d053267'"
      ]
     },
     "execution_count": 12,
     "metadata": {},
     "output_type": "execute_result"
    }
   ],
   "source": [
    "df[\"main_image\"][10]"
   ]
  },
  {
   "cell_type": "code",
   "execution_count": 16,
   "id": "763ded9a",
   "metadata": {},
   "outputs": [
    {
     "ename": "UnexpectedStatusCodeException",
     "evalue": "Meta endpoint! Unexpected status code: 500, with response body: {'error': [{'message': 'send GET meta request: Get \"http://t2v-transformers:8080/meta\": dial tcp: lookup t2v-transformers on 127.0.0.11:53: server misbehaving'}]}.",
     "output_type": "error",
     "traceback": [
      "\u001b[1;31m---------------------------------------------------------------------------\u001b[0m",
      "\u001b[1;31mUnexpectedStatusCodeException\u001b[0m             Traceback (most recent call last)",
      "Cell \u001b[1;32mIn[16], line 18\u001b[0m\n\u001b[0;32m     10\u001b[0m     client \u001b[38;5;241m=\u001b[39m weaviate\u001b[38;5;241m.\u001b[39mClient(\n\u001b[0;32m     11\u001b[0m         \u001b[38;5;66;03m#http://34.168.110.14:8080\u001b[39;00m\n\u001b[0;32m     12\u001b[0m         url \u001b[38;5;241m=\u001b[39m \u001b[38;5;124m\"\u001b[39m\u001b[38;5;124mhttp://34.168.110.14:8080\u001b[39m\u001b[38;5;124m\"\u001b[39m,  \u001b[38;5;66;03m# Replace with your endpoint\u001b[39;00m\n\u001b[0;32m     13\u001b[0m     )\n\u001b[0;32m     14\u001b[0m     \u001b[38;5;28;01mreturn\u001b[39;00m client \n\u001b[1;32m---> 18\u001b[0m client \u001b[38;5;241m=\u001b[39m \u001b[43mweaviate_init\u001b[49m\u001b[43m(\u001b[49m\u001b[43m)\u001b[49m\n\u001b[0;32m     19\u001b[0m query\u001b[38;5;241m=\u001b[39m\u001b[38;5;124m\"\u001b[39m\u001b[38;5;124mCrafted of metal and beautifully embossed with a grand floral design, this pair that measures which is one of kind\u001b[39m\u001b[38;5;124m\"\u001b[39m\n\u001b[0;32m     20\u001b[0m     \u001b[38;5;66;03m# TOVJeAggmG\u001b[39;00m\n",
      "Cell \u001b[1;32mIn[16], line 10\u001b[0m, in \u001b[0;36mweaviate_init\u001b[1;34m()\u001b[0m\n\u001b[0;32m      2\u001b[0m \u001b[38;5;28;01mdef\u001b[39;00m \u001b[38;5;21mweaviate_init\u001b[39m():\n\u001b[0;32m      3\u001b[0m     \u001b[38;5;66;03m# client = weaviate.Client(\u001b[39;00m\n\u001b[0;32m      4\u001b[0m     \u001b[38;5;66;03m#     url = \"https://weaviatetest-8o6sm485.weaviate.network\",  # Replace with your endpoint\u001b[39;00m\n\u001b[1;32m   (...)\u001b[0m\n\u001b[0;32m      8\u001b[0m     \u001b[38;5;66;03m#     }\u001b[39;00m\n\u001b[0;32m      9\u001b[0m     \u001b[38;5;66;03m# )\u001b[39;00m\n\u001b[1;32m---> 10\u001b[0m     client \u001b[38;5;241m=\u001b[39m \u001b[43mweaviate\u001b[49m\u001b[38;5;241;43m.\u001b[39;49m\u001b[43mClient\u001b[49m\u001b[43m(\u001b[49m\n\u001b[0;32m     11\u001b[0m \u001b[43m        \u001b[49m\u001b[38;5;66;43;03m#http://34.168.110.14:8080\u001b[39;49;00m\n\u001b[0;32m     12\u001b[0m \u001b[43m        \u001b[49m\u001b[43murl\u001b[49m\u001b[43m \u001b[49m\u001b[38;5;241;43m=\u001b[39;49m\u001b[43m \u001b[49m\u001b[38;5;124;43m\"\u001b[39;49m\u001b[38;5;124;43mhttp://34.168.110.14:8080\u001b[39;49m\u001b[38;5;124;43m\"\u001b[39;49m\u001b[43m,\u001b[49m\u001b[43m  \u001b[49m\u001b[38;5;66;43;03m# Replace with your endpoint\u001b[39;49;00m\n\u001b[0;32m     13\u001b[0m \u001b[43m    \u001b[49m\u001b[43m)\u001b[49m\n\u001b[0;32m     14\u001b[0m     \u001b[38;5;28;01mreturn\u001b[39;00m client\n",
      "File \u001b[1;32mc:\\Users\\gupta\\AppData\\Local\\Programs\\Python\\Python311\\Lib\\site-packages\\weaviate\\client.py:150\u001b[0m, in \u001b[0;36mClient.__init__\u001b[1;34m(self, url, auth_client_secret, timeout_config, proxies, trust_env, additional_headers, startup_period, embedded_options, additional_config)\u001b[0m\n\u001b[0;32m    147\u001b[0m config \u001b[38;5;241m=\u001b[39m Config() \u001b[38;5;28;01mif\u001b[39;00m additional_config \u001b[38;5;129;01mis\u001b[39;00m \u001b[38;5;28;01mNone\u001b[39;00m \u001b[38;5;28;01melse\u001b[39;00m additional_config\n\u001b[0;32m    148\u001b[0m url, embedded_db \u001b[38;5;241m=\u001b[39m \u001b[38;5;28mself\u001b[39m\u001b[38;5;241m.\u001b[39m__parse_url_and_embedded_db(url, embedded_options)\n\u001b[1;32m--> 150\u001b[0m \u001b[38;5;28mself\u001b[39m\u001b[38;5;241m.\u001b[39m_connection \u001b[38;5;241m=\u001b[39m \u001b[43mConnection\u001b[49m\u001b[43m(\u001b[49m\n\u001b[0;32m    151\u001b[0m \u001b[43m    \u001b[49m\u001b[43murl\u001b[49m\u001b[38;5;241;43m=\u001b[39;49m\u001b[43murl\u001b[49m\u001b[43m,\u001b[49m\n\u001b[0;32m    152\u001b[0m \u001b[43m    \u001b[49m\u001b[43mauth_client_secret\u001b[49m\u001b[38;5;241;43m=\u001b[39;49m\u001b[43mauth_client_secret\u001b[49m\u001b[43m,\u001b[49m\n\u001b[0;32m    153\u001b[0m \u001b[43m    \u001b[49m\u001b[43mtimeout_config\u001b[49m\u001b[38;5;241;43m=\u001b[39;49m\u001b[43m_get_valid_timeout_config\u001b[49m\u001b[43m(\u001b[49m\u001b[43mtimeout_config\u001b[49m\u001b[43m)\u001b[49m\u001b[43m,\u001b[49m\n\u001b[0;32m    154\u001b[0m \u001b[43m    \u001b[49m\u001b[43mproxies\u001b[49m\u001b[38;5;241;43m=\u001b[39;49m\u001b[43mproxies\u001b[49m\u001b[43m,\u001b[49m\n\u001b[0;32m    155\u001b[0m \u001b[43m    \u001b[49m\u001b[43mtrust_env\u001b[49m\u001b[38;5;241;43m=\u001b[39;49m\u001b[43mtrust_env\u001b[49m\u001b[43m,\u001b[49m\n\u001b[0;32m    156\u001b[0m \u001b[43m    \u001b[49m\u001b[43madditional_headers\u001b[49m\u001b[38;5;241;43m=\u001b[39;49m\u001b[43madditional_headers\u001b[49m\u001b[43m,\u001b[49m\n\u001b[0;32m    157\u001b[0m \u001b[43m    \u001b[49m\u001b[43mstartup_period\u001b[49m\u001b[38;5;241;43m=\u001b[39;49m\u001b[43mstartup_period\u001b[49m\u001b[43m,\u001b[49m\n\u001b[0;32m    158\u001b[0m \u001b[43m    \u001b[49m\u001b[43membedded_db\u001b[49m\u001b[38;5;241;43m=\u001b[39;49m\u001b[43membedded_db\u001b[49m\u001b[43m,\u001b[49m\n\u001b[0;32m    159\u001b[0m \u001b[43m    \u001b[49m\u001b[43mgrcp_port\u001b[49m\u001b[38;5;241;43m=\u001b[39;49m\u001b[43mconfig\u001b[49m\u001b[38;5;241;43m.\u001b[39;49m\u001b[43mgrpc_port_experimental\u001b[49m\u001b[43m,\u001b[49m\n\u001b[0;32m    160\u001b[0m \u001b[43m    \u001b[49m\u001b[43mconnection_config\u001b[49m\u001b[38;5;241;43m=\u001b[39;49m\u001b[43mconfig\u001b[49m\u001b[38;5;241;43m.\u001b[39;49m\u001b[43mconnection_config\u001b[49m\u001b[43m,\u001b[49m\n\u001b[0;32m    161\u001b[0m \u001b[43m\u001b[49m\u001b[43m)\u001b[49m\n\u001b[0;32m    162\u001b[0m \u001b[38;5;28mself\u001b[39m\u001b[38;5;241m.\u001b[39mclassification \u001b[38;5;241m=\u001b[39m Classification(\u001b[38;5;28mself\u001b[39m\u001b[38;5;241m.\u001b[39m_connection)\n\u001b[0;32m    163\u001b[0m \u001b[38;5;28mself\u001b[39m\u001b[38;5;241m.\u001b[39mschema \u001b[38;5;241m=\u001b[39m Schema(\u001b[38;5;28mself\u001b[39m\u001b[38;5;241m.\u001b[39m_connection)\n",
      "File \u001b[1;32mc:\\Users\\gupta\\AppData\\Local\\Programs\\Python\\Python311\\Lib\\site-packages\\weaviate\\connect\\connection.py:171\u001b[0m, in \u001b[0;36mConnection.__init__\u001b[1;34m(self, url, auth_client_secret, timeout_config, proxies, trust_env, additional_headers, startup_period, connection_config, embedded_db, grcp_port)\u001b[0m\n\u001b[0;32m    168\u001b[0m \u001b[38;5;28mself\u001b[39m\u001b[38;5;241m.\u001b[39m_create_sessions(auth_client_secret)\n\u001b[0;32m    169\u001b[0m \u001b[38;5;28mself\u001b[39m\u001b[38;5;241m.\u001b[39m_add_adapter_to_session(connection_config)\n\u001b[1;32m--> 171\u001b[0m \u001b[38;5;28mself\u001b[39m\u001b[38;5;241m.\u001b[39m_server_version \u001b[38;5;241m=\u001b[39m \u001b[38;5;28;43mself\u001b[39;49m\u001b[38;5;241;43m.\u001b[39;49m\u001b[43mget_meta\u001b[49m\u001b[43m(\u001b[49m\u001b[43m)\u001b[49m[\u001b[38;5;124m\"\u001b[39m\u001b[38;5;124mversion\u001b[39m\u001b[38;5;124m\"\u001b[39m]\n\u001b[0;32m    172\u001b[0m \u001b[38;5;28;01mif\u001b[39;00m \u001b[38;5;28mself\u001b[39m\u001b[38;5;241m.\u001b[39m_server_version \u001b[38;5;241m<\u001b[39m \u001b[38;5;124m\"\u001b[39m\u001b[38;5;124m1.14\u001b[39m\u001b[38;5;124m\"\u001b[39m:\n\u001b[0;32m    173\u001b[0m     _Warnings\u001b[38;5;241m.\u001b[39mweaviate_server_older_than_1_14(\u001b[38;5;28mself\u001b[39m\u001b[38;5;241m.\u001b[39m_server_version)\n",
      "File \u001b[1;32mc:\\Users\\gupta\\AppData\\Local\\Programs\\Python\\Python311\\Lib\\site-packages\\weaviate\\connect\\connection.py:677\u001b[0m, in \u001b[0;36mConnection.get_meta\u001b[1;34m(self)\u001b[0m\n\u001b[0;32m    673\u001b[0m \u001b[38;5;250m\u001b[39m\u001b[38;5;124;03m\"\"\"\u001b[39;00m\n\u001b[0;32m    674\u001b[0m \u001b[38;5;124;03mReturns the meta endpoint.\u001b[39;00m\n\u001b[0;32m    675\u001b[0m \u001b[38;5;124;03m\"\"\"\u001b[39;00m\n\u001b[0;32m    676\u001b[0m response \u001b[38;5;241m=\u001b[39m \u001b[38;5;28mself\u001b[39m\u001b[38;5;241m.\u001b[39mget(path\u001b[38;5;241m=\u001b[39m\u001b[38;5;124m\"\u001b[39m\u001b[38;5;124m/meta\u001b[39m\u001b[38;5;124m\"\u001b[39m)\n\u001b[1;32m--> 677\u001b[0m res \u001b[38;5;241m=\u001b[39m \u001b[43m_decode_json_response_dict\u001b[49m\u001b[43m(\u001b[49m\u001b[43mresponse\u001b[49m\u001b[43m,\u001b[49m\u001b[43m \u001b[49m\u001b[38;5;124;43m\"\u001b[39;49m\u001b[38;5;124;43mMeta endpoint\u001b[39;49m\u001b[38;5;124;43m\"\u001b[39;49m\u001b[43m)\u001b[49m\n\u001b[0;32m    678\u001b[0m \u001b[38;5;28;01massert\u001b[39;00m res \u001b[38;5;129;01mis\u001b[39;00m \u001b[38;5;129;01mnot\u001b[39;00m \u001b[38;5;28;01mNone\u001b[39;00m\n\u001b[0;32m    679\u001b[0m \u001b[38;5;28;01mreturn\u001b[39;00m res\n",
      "File \u001b[1;32mc:\\Users\\gupta\\AppData\\Local\\Programs\\Python\\Python311\\Lib\\site-packages\\weaviate\\util.py:798\u001b[0m, in \u001b[0;36m_decode_json_response_dict\u001b[1;34m(response, location)\u001b[0m\n\u001b[0;32m    795\u001b[0m     \u001b[38;5;28;01mexcept\u001b[39;00m JSONDecodeError:\n\u001b[0;32m    796\u001b[0m         \u001b[38;5;28;01mraise\u001b[39;00m ResponseCannotBeDecodedException(location, response)\n\u001b[1;32m--> 798\u001b[0m \u001b[38;5;28;01mraise\u001b[39;00m UnexpectedStatusCodeException(location, response)\n",
      "\u001b[1;31mUnexpectedStatusCodeException\u001b[0m: Meta endpoint! Unexpected status code: 500, with response body: {'error': [{'message': 'send GET meta request: Get \"http://t2v-transformers:8080/meta\": dial tcp: lookup t2v-transformers on 127.0.0.11:53: server misbehaving'}]}."
     ]
    }
   ],
   "source": [
    "import weaviate\n",
    "def weaviate_init():\n",
    "    # client = weaviate.Client(\n",
    "    #     url = \"https://weaviatetest-8o6sm485.weaviate.network\",  # Replace with your endpoint\n",
    "    #     auth_client_secret=weaviate.AuthApiKey(api_key=os.getenv(\"WEAVIATE_API_KEY\")),  # Replace w/ your Weaviate instance API key\n",
    "    #     additional_headers = {\n",
    "    #         \"X-HuggingFace-Api-Key\": os.getenv(\"HUGGINGFACE_API_KEY\")  # Replace with your Hugging Face API key\n",
    "    #     }\n",
    "    # )\n",
    "    client = weaviate.Client(\n",
    "        #http://34.168.110.14:8080\n",
    "        url = \"http://34.168.110.14:8080\",  # Replace with your endpoint\n",
    "    )\n",
    "    return client \n",
    "\n",
    "\n",
    "\n",
    "client = weaviate_init()\n",
    "query=\"Crafted of metal and beautifully embossed with a grand floral design, this pair that measures which is one of kind\"\n",
    "    # TOVJeAggmG\n",
    "response = (\n",
    "        client.query\n",
    "        .get(\"Class_xHo5ItTiOV\", [\"title\",\"description\",\"raw_description\",\"price\",\"specifications\",\"primary_category\",\"main_image\"])\n",
    "        .with_hybrid(\n",
    "            query=query,\n",
    "        )\n",
    "        .with_limit(20)\n",
    "        .with_additional([\"distance\"])\n",
    "        .do()\n",
    "    )\n",
    "print(response[\"data\"][\"Get\"][\"Class_xHo5ItTiOV\"])"
   ]
  },
  {
   "cell_type": "code",
   "execution_count": null,
   "id": "605e0c39",
   "metadata": {},
   "outputs": [],
   "source": []
  }
 ],
 "metadata": {
  "kernelspec": {
   "display_name": "Python 3 (ipykernel)",
   "language": "python",
   "name": "python3"
  },
  "language_info": {
   "codemirror_mode": {
    "name": "ipython",
    "version": 3
   },
   "file_extension": ".py",
   "mimetype": "text/x-python",
   "name": "python",
   "nbconvert_exporter": "python",
   "pygments_lexer": "ipython3",
   "version": "3.11.3"
  }
 },
 "nbformat": 4,
 "nbformat_minor": 5
}

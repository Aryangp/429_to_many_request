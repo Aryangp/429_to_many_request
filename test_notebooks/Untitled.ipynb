{
 "cells": [
  {
   "cell_type": "code",
   "execution_count": null,
   "id": "50e1c0dd",
   "metadata": {},
   "outputs": [],
   "source": [
    "import pandas as pd"
   ]
  },
  {
   "cell_type": "code",
   "execution_count": 3,
   "id": "87b12821",
   "metadata": {},
   "outputs": [
    {
     "data": {
      "text/html": [
       "<div>\n",
       "<style scoped>\n",
       "    .dataframe tbody tr th:only-of-type {\n",
       "        vertical-align: middle;\n",
       "    }\n",
       "\n",
       "    .dataframe tbody tr th {\n",
       "        vertical-align: top;\n",
       "    }\n",
       "\n",
       "    .dataframe thead th {\n",
       "        text-align: right;\n",
       "    }\n",
       "</style>\n",
       "<table border=\"1\" class=\"dataframe\">\n",
       "  <thead>\n",
       "    <tr style=\"text-align: right;\">\n",
       "      <th></th>\n",
       "      <th>ProductId</th>\n",
       "      <th>Gender</th>\n",
       "      <th>Category</th>\n",
       "      <th>SubCategory</th>\n",
       "      <th>ProductType</th>\n",
       "      <th>Colour</th>\n",
       "      <th>Usage</th>\n",
       "      <th>ProductTitle</th>\n",
       "      <th>Image</th>\n",
       "      <th>ImageURL</th>\n",
       "    </tr>\n",
       "  </thead>\n",
       "  <tbody>\n",
       "    <tr>\n",
       "      <th>0</th>\n",
       "      <td>42419</td>\n",
       "      <td>Girls</td>\n",
       "      <td>Apparel</td>\n",
       "      <td>Topwear</td>\n",
       "      <td>Tops</td>\n",
       "      <td>White</td>\n",
       "      <td>Casual</td>\n",
       "      <td>Gini and Jony Girls Knit White Top</td>\n",
       "      <td>42419.jpg</td>\n",
       "      <td>http://assets.myntassets.com/v1/images/style/p...</td>\n",
       "    </tr>\n",
       "    <tr>\n",
       "      <th>1</th>\n",
       "      <td>34009</td>\n",
       "      <td>Girls</td>\n",
       "      <td>Apparel</td>\n",
       "      <td>Topwear</td>\n",
       "      <td>Tops</td>\n",
       "      <td>Black</td>\n",
       "      <td>Casual</td>\n",
       "      <td>Gini and Jony Girls Black Top</td>\n",
       "      <td>34009.jpg</td>\n",
       "      <td>http://assets.myntassets.com/v1/images/style/p...</td>\n",
       "    </tr>\n",
       "    <tr>\n",
       "      <th>2</th>\n",
       "      <td>40143</td>\n",
       "      <td>Girls</td>\n",
       "      <td>Apparel</td>\n",
       "      <td>Topwear</td>\n",
       "      <td>Tops</td>\n",
       "      <td>Blue</td>\n",
       "      <td>Casual</td>\n",
       "      <td>Gini and Jony Girls Pretty Blossom Blue Top</td>\n",
       "      <td>40143.jpg</td>\n",
       "      <td>http://assets.myntassets.com/v1/images/style/p...</td>\n",
       "    </tr>\n",
       "    <tr>\n",
       "      <th>3</th>\n",
       "      <td>23623</td>\n",
       "      <td>Girls</td>\n",
       "      <td>Apparel</td>\n",
       "      <td>Topwear</td>\n",
       "      <td>Tops</td>\n",
       "      <td>Pink</td>\n",
       "      <td>Casual</td>\n",
       "      <td>Doodle Kids Girls Pink I love Shopping Top</td>\n",
       "      <td>23623.jpg</td>\n",
       "      <td>http://assets.myntassets.com/v1/images/style/p...</td>\n",
       "    </tr>\n",
       "    <tr>\n",
       "      <th>4</th>\n",
       "      <td>47154</td>\n",
       "      <td>Girls</td>\n",
       "      <td>Apparel</td>\n",
       "      <td>Bottomwear</td>\n",
       "      <td>Capris</td>\n",
       "      <td>Black</td>\n",
       "      <td>Casual</td>\n",
       "      <td>Gini and Jony Girls Black Capris</td>\n",
       "      <td>47154.jpg</td>\n",
       "      <td>http://assets.myntassets.com/v1/images/style/p...</td>\n",
       "    </tr>\n",
       "  </tbody>\n",
       "</table>\n",
       "</div>"
      ],
      "text/plain": [
       "   ProductId Gender Category SubCategory ProductType Colour   Usage  \\\n",
       "0      42419  Girls  Apparel     Topwear        Tops  White  Casual   \n",
       "1      34009  Girls  Apparel     Topwear        Tops  Black  Casual   \n",
       "2      40143  Girls  Apparel     Topwear        Tops   Blue  Casual   \n",
       "3      23623  Girls  Apparel     Topwear        Tops   Pink  Casual   \n",
       "4      47154  Girls  Apparel  Bottomwear      Capris  Black  Casual   \n",
       "\n",
       "                                  ProductTitle      Image  \\\n",
       "0           Gini and Jony Girls Knit White Top  42419.jpg   \n",
       "1                Gini and Jony Girls Black Top  34009.jpg   \n",
       "2  Gini and Jony Girls Pretty Blossom Blue Top  40143.jpg   \n",
       "3   Doodle Kids Girls Pink I love Shopping Top  23623.jpg   \n",
       "4             Gini and Jony Girls Black Capris  47154.jpg   \n",
       "\n",
       "                                            ImageURL  \n",
       "0  http://assets.myntassets.com/v1/images/style/p...  \n",
       "1  http://assets.myntassets.com/v1/images/style/p...  \n",
       "2  http://assets.myntassets.com/v1/images/style/p...  \n",
       "3  http://assets.myntassets.com/v1/images/style/p...  \n",
       "4  http://assets.myntassets.com/v1/images/style/p...  "
      ]
     },
     "execution_count": 3,
     "metadata": {},
     "output_type": "execute_result"
    }
   ],
   "source": [
    "df = pd.read_csv(\"fashion.csv\")\n",
    "df.head()"
   ]
  },
  {
   "cell_type": "code",
   "execution_count": 4,
   "id": "f735ba9e",
   "metadata": {},
   "outputs": [
    {
     "data": {
      "text/plain": [
       "0    http://assets.myntassets.com/v1/images/style/p...\n",
       "1    http://assets.myntassets.com/v1/images/style/p...\n",
       "2    http://assets.myntassets.com/v1/images/style/p...\n",
       "3    http://assets.myntassets.com/v1/images/style/p...\n",
       "4    http://assets.myntassets.com/v1/images/style/p...\n",
       "5    http://assets.myntassets.com/v1/images/style/p...\n",
       "6    http://assets.myntassets.com/v1/images/style/p...\n",
       "7    http://assets.myntassets.com/v1/images/style/p...\n",
       "8    http://assets.myntassets.com/v1/images/style/p...\n",
       "Name: ImageURL, dtype: object"
      ]
     },
     "execution_count": 4,
     "metadata": {},
     "output_type": "execute_result"
    }
   ],
   "source": [
    "df[\"ImageURL\"].head(9)"
   ]
  },
  {
   "cell_type": "code",
   "execution_count": 9,
   "id": "6a148e6e",
   "metadata": {},
   "outputs": [
    {
     "data": {
      "text/plain": [
       "0    ProductId: 42419, Gender: Girls, Category: App...\n",
       "Name: CombinedString, dtype: object"
      ]
     },
     "execution_count": 9,
     "metadata": {},
     "output_type": "execute_result"
    }
   ],
   "source": [
    "df['CombinedString'] = df.apply(lambda row: ' '.join([f\"{col}: {row[col]},\" for col in df.columns]), axis=1)\n",
    "df['CombinedString'].head(1)"
   ]
  },
  {
   "cell_type": "code",
   "execution_count": null,
   "id": "8b6789cd",
   "metadata": {},
   "outputs": [
    {
     "data": {
      "application/vnd.jupyter.widget-view+json": {
       "model_id": "a80eda2daaa14e429bbd66fe03f65b56",
       "version_major": 2,
       "version_minor": 0
      },
      "text/plain": [
       "Downloading:   0%|          | 0.00/2.27k [00:00<?, ?B/s]"
      ]
     },
     "metadata": {},
     "output_type": "display_data"
    },
    {
     "data": {
      "application/vnd.jupyter.widget-view+json": {
       "model_id": "86f9f180b10f41f18a32b4930d4e3471",
       "version_major": 2,
       "version_minor": 0
      },
      "text/plain": [
       "Downloading:   0%|          | 0.00/773k [00:00<?, ?B/s]"
      ]
     },
     "metadata": {},
     "output_type": "display_data"
    },
    {
     "data": {
      "application/vnd.jupyter.widget-view+json": {
       "model_id": "9c20e1f40ca84d3a9d28f0f78662f7c0",
       "version_major": 2,
       "version_minor": 0
      },
      "text/plain": [
       "Downloading:   0%|          | 0.00/1.32M [00:00<?, ?B/s]"
      ]
     },
     "metadata": {},
     "output_type": "display_data"
    },
    {
     "data": {
      "application/vnd.jupyter.widget-view+json": {
       "model_id": "0dc5720d28ce48aa901d1b3f0cdfe619",
       "version_major": 2,
       "version_minor": 0
      },
      "text/plain": [
       "Downloading:   0%|          | 0.00/1.18k [00:00<?, ?B/s]"
      ]
     },
     "metadata": {},
     "output_type": "display_data"
    },
    {
     "data": {
      "application/vnd.jupyter.widget-view+json": {
       "model_id": "e1b27e3f58994c8db7327eb1f4528395",
       "version_major": 2,
       "version_minor": 0
      },
      "text/plain": [
       "Downloading:   0%|          | 0.00/231M [00:00<?, ?B/s]"
      ]
     },
     "metadata": {},
     "output_type": "display_data"
    },
    {
     "name": "stdout",
     "output_type": "stream",
     "text": [
      "WARNING:tensorflow:From C:\\Users\\gupta\\AppData\\Local\\Programs\\Python\\Python311\\Lib\\site-packages\\keras\\src\\losses.py:2976: The name tf.losses.sparse_softmax_cross_entropy is deprecated. Please use tf.compat.v1.losses.sparse_softmax_cross_entropy instead.\n",
      "\n"
     ]
    }
   ],
   "source": [
    "import pandas as pd\n",
    "from transformers import T5ForConditionalGeneration, T5Tokenizer\n",
    "\n",
    "# Load T5 model and tokenizer\n",
    "model_name = 't5-small'\n",
    "tokenizer = T5Tokenizer.from_pretrained(model_name)\n",
    "model = T5ForConditionalGeneration.from_pretrained(model_name)\n",
    "\n",
    "# Function to generate descriptions using T5 model\n",
    "def generate_description(text):\n",
    "    input_text = f\"generate a description: {text}\"\n",
    "    input_ids = tokenizer.encode(input_text, return_tensors='pt', max_length=512, truncation=True)\n",
    "    output_ids = model.generate(input_ids, max_length=150, num_beams=2, length_penalty=0.7, early_stopping=True)\n",
    "    description = tokenizer.decode(output_ids[0], skip_special_tokens=True)\n",
    "    return description\n",
    "\n",
    "# Apply the function to generate descriptions for each row\n",
    "df['Description'] = df.apply(lambda row: generate_description(f\"{row['CombinedString']}\"), axis=1)\n",
    "\n",
    "# Save the DataFrame with generated descriptions to a new CSV file\n",
    "# df.to_csv('output_file_with_descriptions.csv', index=False)\n",
    "df['Description'].head(3)"
   ]
  },
  {
   "cell_type": "code",
   "execution_count": null,
   "id": "1c46ecac",
   "metadata": {},
   "outputs": [],
   "source": [
    "df.head(8)"
   ]
  },
  {
   "cell_type": "code",
   "execution_count": null,
   "id": "b71c1dc0",
   "metadata": {},
   "outputs": [],
   "source": []
  }
 ],
 "metadata": {
  "kernelspec": {
   "display_name": "Python 3 (ipykernel)",
   "language": "python",
   "name": "python3"
  },
  "language_info": {
   "codemirror_mode": {
    "name": "ipython",
    "version": 3
   },
   "file_extension": ".py",
   "mimetype": "text/x-python",
   "name": "python",
   "nbconvert_exporter": "python",
   "pygments_lexer": "ipython3",
   "version": "3.11.3"
  }
 },
 "nbformat": 4,
 "nbformat_minor": 5
}
